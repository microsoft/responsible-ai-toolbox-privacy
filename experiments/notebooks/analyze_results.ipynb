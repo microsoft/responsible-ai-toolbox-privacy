{
 "cells": [
  {
   "cell_type": "code",
   "execution_count": null,
   "metadata": {},
   "outputs": [],
   "source": [
    "import numpy as np\n",
    "from privacy_estimates.experiments.aml import JobList\n",
    "from collections import OrderedDict\n",
    "from matplotlib import pyplot as plt"
   ]
  },
  {
   "cell_type": "code",
   "execution_count": null,
   "metadata": {},
   "outputs": [],
   "source": [
    "urls = OrderedDict([\n",
    "    (\"image\", \"https://ml.azure.com/experiments/id/cbd45cd3-4fd8-4922-b82a-124527cc98ee/runs/epic_rod_2xm6hfr7dh?wsid=%2Fsubscriptions%2Facc09744-1ee3-4242-b375-93421c63af0c%2Fresourcegroups%2FPPML%2Fworkspaces%2FM365Research-PPML-EUS&tid=72f988bf-86f1-41af-91ab-2d7cd011db47&reloadCount=3#\"),\n",
    "    (\"text\", \"https://ml.azure.com/experiments/id/cbd45cd3-4fd8-4922-b82a-124527cc98ee/runs/teal_board_ttr6clk96d?wsid=%2Fsubscriptions%2Facc09744-1ee3-4242-b375-93421c63af0c%2Fresourcegroups%2FPPML%2Fworkspaces%2FM365Research-PPML-EUS&tid=72f988bf-86f1-41af-91ab-2d7cd011db47&reloadCount=3#\"),\n",
    "])\n",
    "jobs = JobList.from_urls(urls)\n",
    "jobs.as_pretty_table()"
   ]
  },
  {
   "cell_type": "code",
   "execution_count": null,
   "metadata": {},
   "outputs": [],
   "source": [
    "metrics = [j.get_node(\"estimate_privacy\").get_metrics() for j in jobs]"
   ]
  },
  {
   "cell_type": "code",
   "execution_count": null,
   "metadata": {},
   "outputs": [],
   "source": [
    "fig, ax = plt.subplots()\n",
    "for job, metric in zip(jobs, metrics):\n",
    "    ax.plot(metric[\"trade_off_curves\"][\"fpr\"], 1-np.array(metric[\"trade_off_curves\"][\"empirical_0.95_lo\"]), label=job.local_name)\n",
    "ax.set_xlabel(\"False Positive Rate\")\n",
    "ax.set_ylabel(\"True Positive Rate\")\n",
    "ax.legend()\n",
    "plt.show()\n"
   ]
  }
 ],
 "metadata": {
  "kernelspec": {
   "display_name": "privacy-estimates",
   "language": "python",
   "name": "python3"
  },
  "language_info": {
   "codemirror_mode": {
    "name": "ipython",
    "version": 3
   },
   "file_extension": ".py",
   "mimetype": "text/x-python",
   "name": "python",
   "nbconvert_exporter": "python",
   "pygments_lexer": "ipython3",
   "version": "3.9.18"
  }
 },
 "nbformat": 4,
 "nbformat_minor": 2
}
